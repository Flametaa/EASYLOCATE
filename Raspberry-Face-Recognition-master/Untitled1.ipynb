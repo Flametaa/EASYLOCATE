{
 "cells": [
  {
   "cell_type": "code",
   "execution_count": 3,
   "metadata": {},
   "outputs": [
    {
     "ename": "error",
     "evalue": "OpenCV(4.0.0) C:\\projects\\opencv-python\\opencv_contrib\\modules\\face\\src\\facerec.cpp:61: error: (-2:Unspecified error) File can't be opened for reading! in function 'cv::face::FaceRecognizer::read'\n",
     "output_type": "error",
     "traceback": [
      "\u001b[1;31m---------------------------------------------------------------------------\u001b[0m",
      "\u001b[1;31merror\u001b[0m                                     Traceback (most recent call last)",
      "\u001b[1;32m<ipython-input-3-fefbb7f7ea56>\u001b[0m in \u001b[0;36m<module>\u001b[1;34m()\u001b[0m\n\u001b[0;32m      9\u001b[0m \u001b[0mrecognizer\u001b[0m \u001b[1;33m=\u001b[0m \u001b[0mcv2\u001b[0m\u001b[1;33m.\u001b[0m\u001b[0mface_LBPHFaceRecognizer\u001b[0m\u001b[1;33m.\u001b[0m\u001b[0mcreate\u001b[0m\u001b[1;33m(\u001b[0m\u001b[1;33m)\u001b[0m\u001b[1;33m\u001b[0m\u001b[0m\n\u001b[0;32m     10\u001b[0m \u001b[1;31m# Load the trained mode\u001b[0m\u001b[1;33m\u001b[0m\u001b[1;33m\u001b[0m\u001b[0m\n\u001b[1;32m---> 11\u001b[1;33m \u001b[0mrecognizer\u001b[0m\u001b[1;33m.\u001b[0m\u001b[0mread\u001b[0m\u001b[1;33m(\u001b[0m\u001b[1;34m'trainer/trainer.yml'\u001b[0m\u001b[1;33m)\u001b[0m\u001b[1;33m\u001b[0m\u001b[0m\n\u001b[0m\u001b[0;32m     12\u001b[0m \u001b[1;33m\u001b[0m\u001b[0m\n\u001b[0;32m     13\u001b[0m \u001b[1;31m# Load prebuilt model for Frontal Face\u001b[0m\u001b[1;33m\u001b[0m\u001b[1;33m\u001b[0m\u001b[0m\n",
      "\u001b[1;31merror\u001b[0m: OpenCV(4.0.0) C:\\projects\\opencv-python\\opencv_contrib\\modules\\face\\src\\facerec.cpp:61: error: (-2:Unspecified error) File can't be opened for reading! in function 'cv::face::FaceRecognizer::read'\n"
     ]
    }
   ],
   "source": [
    "# Import OpenCV2 for image processing\n",
    "import cv2\n",
    "\n",
    "# Import numpy for matrices calculations\n",
    "import numpy as np\n",
    "\n",
    "# Create Local Binary Patterns Histograms for face recognization\n",
    "#recognizer = cv2.face.createLBPHFaceRecognizer()\n",
    "recognizer = cv2.face_LBPHFaceRecognizer.create()\n",
    "# Load the trained mode\n",
    "recognizer.read('trainer/trainer.yml')\n",
    "\n",
    "# Load prebuilt model for Frontal Face\n",
    "cascadePath = \"haarcascade_frontalface_default.xml\"\n",
    "\n",
    "# Create classifier from prebuilt model\n",
    "faceCascade = cv2.CascadeClassifier(cascadePath);\n",
    "\n",
    "# Set the font style\n",
    "font = cv2.FONT_HERSHEY_SIMPLEX\n",
    "\n",
    "# Initialize and start the video frame capture\n",
    "cam = cv2.VideoCapture(0)\n",
    "\n",
    "# Loop\n",
    "while True:\n",
    "    # Read the video frame\n",
    "    ret, im =cam.read()\n",
    "\n",
    "    # Convert the captured frame into grayscale\n",
    "    gray = cv2.cvtColor(im,cv2.COLOR_BGR2GRAY)\n",
    "\n",
    "    # Get all face from the video frame\n",
    "    faces = faceCascade.detectMultiScale(gray, 1.2,5)\n",
    "\n",
    "    # For each face in faces\n",
    "    for(x,y,w,h) in faces:\n",
    "\n",
    "        # Create rectangle around the face\n",
    "        cv2.rectangle(im, (x-20,y-20), (x+w+20,y+h+20), (0,255,0), 4)\n",
    "\n",
    "        # Recognize the face belongs to which ID\n",
    "        Id = recognizer.predict(gray[y:y+h,x:x+w])\n",
    "\n",
    "        # Check the ID if exist \n",
    "        if(Id == 1):\n",
    "            Id = \"hamdi\"\n",
    "        #If not exist, then it is Unknown\n",
    "        elif(Id == 2):\n",
    "            Id = \"hamdi\"\n",
    "        else:\n",
    "            print(Id)\n",
    "\t\t\n",
    "\n",
    "        # Put text describe who is in the picture\n",
    "        cv2.rectangle(im, (x-22,y-90), (x+w+22, y-22), (0,255,0), -1)\n",
    "        cv2.putText(im, str(Id), (x,y-40), font, 2, (255,255,255), 3)\n",
    "\n",
    "    # Display the video frame with the bounded rectangle\n",
    "    cv2.imshow('im',im) \n",
    "\n",
    "    # If 'q' is pressed, close program\n",
    "\n",
    "    if cv2.waitKey(10) & 0xFF == ord('q'):\n",
    "        break\n",
    "\n",
    "# Stop the camera\n",
    "cam.release()\n",
    "\n",
    "# Close all windows\n",
    "cv2.destroyAllWindows()"
   ]
  },
  {
   "cell_type": "code",
   "execution_count": null,
   "metadata": {},
   "outputs": [],
   "source": []
  }
 ],
 "metadata": {
  "kernelspec": {
   "display_name": "Python 3",
   "language": "python",
   "name": "python3"
  },
  "language_info": {
   "codemirror_mode": {
    "name": "ipython",
    "version": 3
   },
   "file_extension": ".py",
   "mimetype": "text/x-python",
   "name": "python",
   "nbconvert_exporter": "python",
   "pygments_lexer": "ipython3",
   "version": "3.7.0"
  }
 },
 "nbformat": 4,
 "nbformat_minor": 2
}

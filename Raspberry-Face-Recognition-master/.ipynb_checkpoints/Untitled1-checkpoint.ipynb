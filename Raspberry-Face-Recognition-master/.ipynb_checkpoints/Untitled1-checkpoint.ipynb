{
 "cells": [
  {
   "cell_type": "code",
   "execution_count": 2,
   "metadata": {},
   "outputs": [
    {
     "ename": "TabError",
     "evalue": "inconsistent use of tabs and spaces in indentation (<ipython-input-2-64601bf2f054>, line 53)",
     "output_type": "error",
     "traceback": [
      "\u001b[1;36m  File \u001b[1;32m\"<ipython-input-2-64601bf2f054>\"\u001b[1;36m, line \u001b[1;32m53\u001b[0m\n\u001b[1;33m    Id = \"Unknow\"\u001b[0m\n\u001b[1;37m                 ^\u001b[0m\n\u001b[1;31mTabError\u001b[0m\u001b[1;31m:\u001b[0m inconsistent use of tabs and spaces in indentation\n"
     ]
    }
   ],
   "source": [
    "# Import OpenCV2 for image processing\n",
    "import cv2\n",
    "\n",
    "# Import numpy for matrices calculations\n",
    "import numpy as np\n",
    "\n",
    "# Create Local Binary Patterns Histograms for face recognization\n",
    "recognizer = cv2.face.createLBPHFaceRecognizer()\n",
    "\n",
    "# Load the trained mode\n",
    "recognizer.load('trainer/trainer.yml')\n",
    "\n",
    "# Load prebuilt model for Frontal Face\n",
    "cascadePath = \"haarcascade_frontalface_default.xml\"\n",
    "\n",
    "# Create classifier from prebuilt model\n",
    "faceCascade = cv2.CascadeClassifier(cascadePath);\n",
    "\n",
    "# Set the font style\n",
    "font = cv2.FONT_HERSHEY_SIMPLEX\n",
    "\n",
    "# Initialize and start the video frame capture\n",
    "cam = cv2.VideoCapture(0)\n",
    "\n",
    "# Loop\n",
    "while True:\n",
    "    # Read the video frame\n",
    "    ret, im =cam.read()\n",
    "\n",
    "    # Convert the captured frame into grayscale\n",
    "    gray = cv2.cvtColor(im,cv2.COLOR_BGR2GRAY)\n",
    "\n",
    "    # Get all face from the video frame\n",
    "    faces = faceCascade.detectMultiScale(gray, 1.2,5)\n",
    "\n",
    "    # For each face in faces\n",
    "    for(x,y,w,h) in faces:\n",
    "\n",
    "        # Create rectangle around the face\n",
    "        cv2.rectangle(im, (x-20,y-20), (x+w+20,y+h+20), (0,255,0), 4)\n",
    "\n",
    "        # Recognize the face belongs to which ID\n",
    "        Id = recognizer.predict(gray[y:y+h,x:x+w])\n",
    "\n",
    "        # Check the ID if exist \n",
    "        if(Id == 1):\n",
    "            Id = \"hamdi\"\n",
    "        #If not exist, then it is Unknown\n",
    "        elif(Id == 2):\n",
    "            Id = \"hamdi\"\n",
    "        else:\n",
    "            print(Id)\n",
    "\t\tId = \"Unknow\"\n",
    "\n",
    "        # Put text describe who is in the picture\n",
    "        cv2.rectangle(im, (x-22,y-90), (x+w+22, y-22), (0,255,0), -1)\n",
    "        cv2.putText(im, str(Id), (x,y-40), font, 2, (255,255,255), 3)\n",
    "\n",
    "    # Display the video frame with the bounded rectangle\n",
    "    cv2.imshow('im',im) \n",
    "\n",
    "    # If 'q' is pressed, close program\n",
    "\n",
    "    if cv2.waitKey(10) & 0xFF == ord('q'):\n",
    "        break\n",
    "\n",
    "# Stop the camera\n",
    "cam.release()\n",
    "\n",
    "# Close all windows\n",
    "cv2.destroyAllWindows()"
   ]
  },
  {
   "cell_type": "code",
   "execution_count": null,
   "metadata": {},
   "outputs": [],
   "source": []
  }
 ],
 "metadata": {
  "kernelspec": {
   "display_name": "Python 3",
   "language": "python",
   "name": "python3"
  },
  "language_info": {
   "codemirror_mode": {
    "name": "ipython",
    "version": 3
   },
   "file_extension": ".py",
   "mimetype": "text/x-python",
   "name": "python",
   "nbconvert_exporter": "python",
   "pygments_lexer": "ipython3",
   "version": "3.7.0"
  }
 },
 "nbformat": 4,
 "nbformat_minor": 2
}
